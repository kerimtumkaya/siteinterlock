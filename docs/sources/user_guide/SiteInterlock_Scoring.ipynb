{
 "cells": [
  {
   "cell_type": "markdown",
   "metadata": {},
   "source": [
    "# Test"
   ]
  },
  {
   "cell_type": "markdown",
   "metadata": {},
   "source": [
    "```bash\n",
    "python scripts/get-substructures.py \\\n",
    "--input examples/proflex_output/all-docking-poses-pdbs/ \\\n",
    "--output examples/proflex_output/all-docking-poses-pdbs-9A/ \\\n",
    "--ligand \"<0>\" \\\n",
    "--apply_to_dir\n",
    "```"
   ]
  },
  {
   "cell_type": "markdown",
   "metadata": {},
   "source": [
    "![](images/1com_0057-rad9A.png)|"
   ]
  },
  {
   "cell_type": "markdown",
   "metadata": {
    "collapsed": false
   },
   "source": [
    "```bash\n",
    "~/Desktop/siteinterlock-toolkit$ python scripts/siteinterlock-score.py -i examples/proflex_output/all-docking-poses-pdbs-9A/\n",
    "\n",
    "#\n",
    "# SiteInterlock version 1.0.0\n",
    "# Author: Sebastian Raschka\n",
    "# Timestamp: 2016-08-17T14:37:12\n",
    "#\n",
    "# ==============================\n",
    "# SiteInterlock Scoring Results\n",
    "# ==============================\n",
    "1com_0057_pflex_in_flex_0001.pdb,-1.393\n",
    "1com_8_0676_pflex_in_flex_0001.pdb,-0.863\n",
    "1com_0140_pflex_in_flex_0001.pdb,-0.776\n",
    "1com_0058_pflex_in_flex_0001.pdb,-0.600\n",
    "1com_crystal.pdb,-0.581\n",
    "1com_4_0032_pflex_in_flex_0001.pdb,-0.562\n",
    "1com_0119_pflex_in_flex_0001.pdb,-0.560\n",
    "1com_5_0055_pflex_in_flex_0001.pdb,0.105\n",
    "1com_1_0066_pflex_in_flex_0001.pdb,0.106\n",
    "1com_3_0826_pflex_in_flex_0001.pdb,0.356\n",
    "1com_3_0594_pflex_in_flex_0001.pdb,0.485\n",
    "1com_0130_pflex_in_flex_0001.pdb,1.062\n",
    "1com_2_0784_pflex_in_flex_0001.pdb,1.477\n",
    "1com_8_0518_pflex_in_flex_0001.pdb,1.746\n",
    "```"
   ]
  },
  {
   "cell_type": "markdown",
   "metadata": {
    "collapsed": true
   },
   "source": [
    "# Optional"
   ]
  },
  {
   "cell_type": "code",
   "execution_count": 1,
   "metadata": {
    "collapsed": false
   },
   "outputs": [],
   "source": [
    "import pandas as pd\n",
    "\n",
    "df1 = pd.read_csv('../../../examples/proflex_output/all-docking-poses-pdbs-9A.csv', comment='#')\n",
    "df2 = pd.read_csv('../../../examples/1com_rmsds.csv')"
   ]
  },
  {
   "cell_type": "code",
   "execution_count": 2,
   "metadata": {
    "collapsed": false
   },
   "outputs": [
    {
     "data": {
      "text/html": [
       "<div>\n",
       "<table border=\"1\" class=\"dataframe\">\n",
       "  <thead>\n",
       "    <tr style=\"text-align: right;\">\n",
       "      <th></th>\n",
       "      <th>Filename</th>\n",
       "      <th>SiteInterlock_Score</th>\n",
       "      <th>RMSD</th>\n",
       "    </tr>\n",
       "  </thead>\n",
       "  <tbody>\n",
       "    <tr>\n",
       "      <th>0</th>\n",
       "      <td>1com_0057_pflex_in_flex_0001.pdb</td>\n",
       "      <td>-1.431</td>\n",
       "      <td>0.3592</td>\n",
       "    </tr>\n",
       "    <tr>\n",
       "      <th>2</th>\n",
       "      <td>1com_0140_pflex_in_flex_0001.pdb</td>\n",
       "      <td>-0.810</td>\n",
       "      <td>1.0010</td>\n",
       "    </tr>\n",
       "    <tr>\n",
       "      <th>3</th>\n",
       "      <td>1com_0058_pflex_in_flex_0001.pdb</td>\n",
       "      <td>-0.649</td>\n",
       "      <td>1.2555</td>\n",
       "    </tr>\n",
       "    <tr>\n",
       "      <th>6</th>\n",
       "      <td>1com_1_0066_pflex_in_flex_0001.pdb</td>\n",
       "      <td>0.055</td>\n",
       "      <td>1.5126</td>\n",
       "    </tr>\n",
       "    <tr>\n",
       "      <th>5</th>\n",
       "      <td>1com_0119_pflex_in_flex_0001.pdb</td>\n",
       "      <td>-0.601</td>\n",
       "      <td>1.7488</td>\n",
       "    </tr>\n",
       "    <tr>\n",
       "      <th>10</th>\n",
       "      <td>1com_0130_pflex_in_flex_0001.pdb</td>\n",
       "      <td>1.026</td>\n",
       "      <td>1.9982</td>\n",
       "    </tr>\n",
       "    <tr>\n",
       "      <th>4</th>\n",
       "      <td>1com_4_0032_pflex_in_flex_0001.pdb</td>\n",
       "      <td>-0.603</td>\n",
       "      <td>2.2476</td>\n",
       "    </tr>\n",
       "    <tr>\n",
       "      <th>8</th>\n",
       "      <td>1com_3_0826_pflex_in_flex_0001.pdb</td>\n",
       "      <td>0.326</td>\n",
       "      <td>2.4965</td>\n",
       "    </tr>\n",
       "    <tr>\n",
       "      <th>9</th>\n",
       "      <td>1com_3_0594_pflex_in_flex_0001.pdb</td>\n",
       "      <td>0.401</td>\n",
       "      <td>2.7501</td>\n",
       "    </tr>\n",
       "    <tr>\n",
       "      <th>11</th>\n",
       "      <td>1com_2_0784_pflex_in_flex_0001.pdb</td>\n",
       "      <td>1.419</td>\n",
       "      <td>2.9999</td>\n",
       "    </tr>\n",
       "    <tr>\n",
       "      <th>1</th>\n",
       "      <td>1com_8_0676_pflex_in_flex_0001.pdb</td>\n",
       "      <td>-0.896</td>\n",
       "      <td>3.5653</td>\n",
       "    </tr>\n",
       "    <tr>\n",
       "      <th>7</th>\n",
       "      <td>1com_5_0055_pflex_in_flex_0001.pdb</td>\n",
       "      <td>0.067</td>\n",
       "      <td>3.9528</td>\n",
       "    </tr>\n",
       "    <tr>\n",
       "      <th>12</th>\n",
       "      <td>1com_8_0518_pflex_in_flex_0001.pdb</td>\n",
       "      <td>1.696</td>\n",
       "      <td>4.8813</td>\n",
       "    </tr>\n",
       "  </tbody>\n",
       "</table>\n",
       "</div>"
      ],
      "text/plain": [
       "                              Filename  SiteInterlock_Score    RMSD\n",
       "0     1com_0057_pflex_in_flex_0001.pdb               -1.431  0.3592\n",
       "2     1com_0140_pflex_in_flex_0001.pdb               -0.810  1.0010\n",
       "3     1com_0058_pflex_in_flex_0001.pdb               -0.649  1.2555\n",
       "6   1com_1_0066_pflex_in_flex_0001.pdb                0.055  1.5126\n",
       "5     1com_0119_pflex_in_flex_0001.pdb               -0.601  1.7488\n",
       "10    1com_0130_pflex_in_flex_0001.pdb                1.026  1.9982\n",
       "4   1com_4_0032_pflex_in_flex_0001.pdb               -0.603  2.2476\n",
       "8   1com_3_0826_pflex_in_flex_0001.pdb                0.326  2.4965\n",
       "9   1com_3_0594_pflex_in_flex_0001.pdb                0.401  2.7501\n",
       "11  1com_2_0784_pflex_in_flex_0001.pdb                1.419  2.9999\n",
       "1   1com_8_0676_pflex_in_flex_0001.pdb               -0.896  3.5653\n",
       "7   1com_5_0055_pflex_in_flex_0001.pdb                0.067  3.9528\n",
       "12  1com_8_0518_pflex_in_flex_0001.pdb                1.696  4.8813"
      ]
     },
     "execution_count": 2,
     "metadata": {},
     "output_type": "execute_result"
    }
   ],
   "source": [
    "df3 = df1.merge(right=df2, on='Filename')\n",
    "df3.sort_values('RMSD', inplace=True)\n",
    "df3"
   ]
  },
  {
   "cell_type": "code",
   "execution_count": 4,
   "metadata": {
    "collapsed": false
   },
   "outputs": [
    {
     "name": "stderr",
     "output_type": "stream",
     "text": [
      "/Users/Sebastian/miniconda3/lib/python3.5/site-packages/matplotlib/tight_layout.py:222: UserWarning: tight_layout : falling back to Agg renderer\n",
      "  warnings.warn(\"tight_layout : falling back to Agg renderer\")\n"
     ]
    }
   ],
   "source": [
    "import matplotlib.pyplot as plt\n",
    "\n",
    "with plt.style.context('fivethirtyeight'):\n",
    "    plt.plot(df3['RMSD'].values, df3['SiteInterlock_Score'].values)\n",
    "    plt.xlabel('RMSD in Angstrom')\n",
    "    plt.ylabel('SiteInterlock Score')\n",
    "    plt.tight_layout()\n",
    "    plt.savefig('images/1com_scores.png', dpi=200)\n",
    "    plt.close()"
   ]
  },
  {
   "cell_type": "markdown",
   "metadata": {},
   "source": [
    "![](images/1com_scores.png)"
   ]
  },
  {
   "cell_type": "code",
   "execution_count": null,
   "metadata": {
    "collapsed": true
   },
   "outputs": [],
   "source": []
  },
  {
   "cell_type": "code",
   "execution_count": null,
   "metadata": {
    "collapsed": true
   },
   "outputs": [],
   "source": []
  }
 ],
 "metadata": {
  "kernelspec": {
   "display_name": "Python 3",
   "language": "python",
   "name": "python3"
  },
  "language_info": {
   "codemirror_mode": {
    "name": "ipython",
    "version": 3
   },
   "file_extension": ".py",
   "mimetype": "text/x-python",
   "name": "python",
   "nbconvert_exporter": "python",
   "pygments_lexer": "ipython3",
   "version": "3.5.1"
  }
 },
 "nbformat": 4,
 "nbformat_minor": 0
}
