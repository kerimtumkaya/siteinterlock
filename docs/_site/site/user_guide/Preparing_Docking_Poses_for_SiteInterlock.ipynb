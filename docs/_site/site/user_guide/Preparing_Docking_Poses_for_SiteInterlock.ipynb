{
 "cells": [
  {
   "cell_type": "markdown",
   "metadata": {},
   "source": [
    "- we walk through a re-docking example"
   ]
  },
  {
   "cell_type": "markdown",
   "metadata": {},
   "source": [
    "# Organizing the Protein Docking Poses as PDB files"
   ]
  },
  {
   "cell_type": "markdown",
   "metadata": {},
   "source": [
    "- After you successfully docked the ligand into the protein's binding site\n",
    "- Prepare docking poses as PDB files containing protein and ligand for each docking pose\n",
    "- Also, prepare the ligand-free structure of the protein\n",
    "- Prior to ProFlex, make sure the proteins have protons\n",
    "- You can use Reduce for instance\n",
    "- We recommend you put each docking pose into a separate directory, for instance as in examples/proflex_input\n",
    "    - for ? docking poses + ligand-free structure + crystal structure\n",
    "\n",
    "![](./images/pflex_input_dir_structure.png)"
   ]
  },
  {
   "cell_type": "markdown",
   "metadata": {},
   "source": [
    "# Determining a Reasonable Energy Cut-Off for Hydrogen Bonds"
   ]
  },
  {
   "cell_type": "markdown",
   "metadata": {},
   "source": [
    "```bash\n",
    "cd 1com_nolig/\n",
    "```\n",
    "\n",
    "```bash\n",
    "proflex -h 1com_nolig.pdb\n",
    "```\n",
    "\n",
    "\n",
    "```\n",
    "Number of H-bonds remaining: 202\n",
    "\n",
    "Number of H-phobic tethers remaining: 166\n",
    "\n",
    "\t\t Filter on Hydrogen Bond Energy:\n",
    "\t\t ~~~~~~~~~~~~~~~~~~~~~~~~~~~~~~~\n",
    "\n",
    "\tAll current hydrogen bonds have energies between:\n",
    "\t    -9.8419 Kcal/Mol  to  0.0226 Kcal/Mol\n",
    "\n",
    "\tEnter a maximum acceptable hydrogen bond energy (in Kcal/Mol)\n",
    "\t(-1.0 is a reasonable cutoff in general): 0\n",
    "```\n",
    "\n",
    "\n",
    "```\n",
    "\n",
    "    ANALYSIS MENU\n",
    "\n",
    "  What would you like to perform:\n",
    "\n",
    "    (1) Flexibility and rigidity analysis\n",
    "    (2) Hydrogen bond dilution\n",
    "2\n",
    "```\n",
    "\n",
    "```\n",
    "  Which hydrogen bond dilution analysis would you like?\n",
    "\n",
    "   (1) Standard hydrogen bond dilution, removing weakestH-bonds, one at a time\n",
    "\n",
    "   (2) Random dilution over all H-bonds.\n",
    "       NOTE: This option is *not* recommended;\n",
    "             It may be used to probe the influence of H-bond\n",
    "             density, as opposed to strength, on rigidity\n",
    "\n",
    "1\n",
    "```"
   ]
  },
  {
   "cell_type": "markdown",
   "metadata": {},
   "source": [
    "![](./images/1com_nolig_hbdilute_dir.png)"
   ]
  },
  {
   "cell_type": "markdown",
   "metadata": {},
   "source": [
    "```bash\n",
    "~/Desktop$ python siteinterlock-toolkit/scripts/hether.py\\\n",
    "--input1 examples/proflex_output/1com_nolig/1com_nolig_proflexdataset\\\n",
    "--input2 examples/proflex_output/1com_nolig/decomp_list \n",
    "```\n",
    "\n",
    "Output:\n",
    "\n",
    "```\n",
    "SiteInterlock version 1.0.0\n",
    "Author: Sebastian Raschka\n",
    "Timestamp: 2016-08-12T15:38:17\n",
    "\n",
    "==============\n",
    "HETHER results\n",
    "==============\n",
    "Suggested energy threshold: -0.806 kcal/mol\n",
    "Number of rigid clusters: 4\n",
    "Relative rigidity [0, 1]: 0.83\n",
    "```\n",
    "\n",
    "- suggest saving this to a logfile"
   ]
  },
  {
   "cell_type": "markdown",
   "metadata": {},
   "source": [
    "![](./images/1com_nolig_h-bonds_dilute.png)"
   ]
  },
  {
   "cell_type": "markdown",
   "metadata": {},
   "source": [
    "# Optional: Visualizing Rigid and Flexible Clusters in PyMOL"
   ]
  },
  {
   "cell_type": "markdown",
   "metadata": {},
   "source": [
    "proflex -h 1com_nolig.pdb \n",
    "\n",
    "\n",
    "```\n",
    "Number of H-bonds remaining: 202\n",
    "\n",
    "Number of H-phobic tethers remaining: 166\n",
    "\n",
    "\t\t Filter on Hydrogen Bond Energy:\n",
    "\t\t ~~~~~~~~~~~~~~~~~~~~~~~~~~~~~~~\n",
    "\n",
    "\tAll current hydrogen bonds have energies between:\n",
    "\t    -9.8419 Kcal/Mol  to  0.0226 Kcal/Mol\n",
    "\n",
    "\tEnter a maximum acceptable hydrogen bond energy (in Kcal/Mol)\n",
    "\t(-1.0 is a reasonable cutoff in general): -0.806\n",
    "```\n",
    "\n",
    "```\n",
    "    ANALYSIS MENU\n",
    "\n",
    "  What would you like to perform:\n",
    "\n",
    "    (1) Flexibility and rigidity analysis\n",
    "    (2) Hydrogen bond dilution\n",
    "1\n",
    "\n",
    "```\n",
    "\n",
    "![](./images/1com_nolig_hbdilute_dir-2.png)\n",
    "\n",
    "- open file 1com_nolig_flex_0001.pdb in pymol\n",
    "\n",
    "![](./images/1com_nolig_in_pymol.png)\n",
    "\n",
    "- run scripts/pymol_pflex_color.pml\n",
    "\n",
    "![](./images/run_pymol_pflex_color.png)\n",
    "\n",
    "![](./images/1com_nolig_in_pymol_colored.png)"
   ]
  },
  {
   "cell_type": "markdown",
   "metadata": {},
   "source": [
    "# ProFlex Analysis on Docking Poses"
   ]
  },
  {
   "cell_type": "markdown",
   "metadata": {},
   "source": [
    "- proflex -h <docking_pose>.pdb\n",
    "- for instance, \n",
    "    - `proflex -h 1com_4_0032_pflex_in.pdb`"
   ]
  },
  {
   "cell_type": "markdown",
   "metadata": {},
   "source": [
    "- example files in examples/slide-propmap\n",
    "\n",
    "- run python scripts/slide-propmap.py --input1 ~/Desktop/1com_crystal.mol2 --input2 ~/Desktop/confs_1com_0.pts\n",
    "\n",
    "```\n",
    "SiteInterlock version 1.0.0\n",
    "Author: Sebastian Raschka\n",
    "Timestamp: 2016-08-12T18:22:46\n",
    "\n",
    "==============\n",
    "PROPMAP results\n",
    "==============\n",
    "C1 --> hydrophobic contact\n",
    "C3 --> hydrophobic contact\n",
    "C5 --> hydrophobic contact\n",
    "C8 --> hydrophobic contact\n",
    "O1 --> b [H-bond Donor and/or Acceptor]\n",
    "O2 --> a [H-bond Acceptor]\n",
    "O3 --> a [H-bond Acceptor]\n",
    "O4 --> a [H-bond Acceptor]\n",
    "O5 --> a [H-bond Acceptor]\n",
    "O6 --> a [H-bond Acceptor]\n",
    "```"
   ]
  },
  {
   "cell_type": "markdown",
   "metadata": {},
   "source": [
    "![](images/1com_crystal.png)"
   ]
  },
  {
   "cell_type": "markdown",
   "metadata": {},
   "source": [
    "```\n",
    "---------------------------------------------------------\n",
    "\tIdentification of H-bond Donors, Acceptors etc.\n",
    "\n",
    "\t(d) H-bond Donor \n",
    "\t(a) H-bond Acceptor \n",
    "\t(b) Both H-bond Donor and H-bond Acceptor \n",
    "\t(c) Charged Donor \n",
    "\t(e) Charged Acceptor \n",
    "\t(n) None \n",
    "---------------------------------------------------------\n",
    "\tEnter (a,b,c,d,e or n) for the following atoms.\n",
    "\n",
    "\t Atom#  Atom  Res    Res#    Chain\n",
    "\t 3755    O1   <0>       1          Enter (a,b,c,d,e or n): b\n",
    "\t 3757    O2   <0>       1          Enter (a,b,c,d,e or n): a\n",
    "\t 3759    O3   <0>       1          Enter (a,b,c,d,e or n): a\n",
    "\t 3761    O4   <0>       1          Enter (a,b,c,d,e or n): a\n",
    "\t 3763    O5   <0>       1          Enter (a,b,c,d,e or n): a\n",
    "\t 3765    O6   <0>       1          Enter (a,b,c,d,e or n): a\n",
    "```\n",
    "\n",
    "blablabla\n",
    "\n",
    "```\n",
    "    ANALYSIS MENU\n",
    "\n",
    "  What would you like to perform:\n",
    "\n",
    "    (1) Flexibility and rigidity analysis\n",
    "    (2) Hydrogen bond dilution\n",
    "1\n",
    "```"
   ]
  },
  {
   "cell_type": "markdown",
   "metadata": {},
   "source": [
    "![](images/1com_4_0032_out.png)"
   ]
  },
  {
   "cell_type": "markdown",
   "metadata": {},
   "source": [
    "on 1com_0057_pflex_in_flex_0001.pdb:"
   ]
  },
  {
   "cell_type": "markdown",
   "metadata": {},
   "source": [
    "![](images/1com_0057.png)"
   ]
  },
  {
   "cell_type": "markdown",
   "metadata": {},
   "source": [
    "- repeat that for all docking poses\n",
    "- collect them somewhere"
   ]
  },
  {
   "cell_type": "markdown",
   "metadata": {},
   "source": [
    "![](images/all-1com-inflex.png)"
   ]
  },
  {
   "cell_type": "markdown",
   "metadata": {},
   "source": [
    "# Optional: Visualizing H-bond Interactions between Proteins and Ligands"
   ]
  },
  {
   "cell_type": "markdown",
   "metadata": {},
   "source": [
    "![](images/install-bondviz-1.png)"
   ]
  },
  {
   "cell_type": "markdown",
   "metadata": {},
   "source": [
    "![](images/install-bondviz-2.png)"
   ]
  },
  {
   "cell_type": "markdown",
   "metadata": {},
   "source": [
    "restart"
   ]
  },
  {
   "cell_type": "markdown",
   "metadata": {},
   "source": [
    "To draw the intermolecular interactions (hydrogen bonds) as assessed by ProFlex, you need to \n",
    "\n",
    "1. Run `python scripts/grab_bonds_proflexdataset.py -i my_proflexdataset`. \n",
    "\n",
    "For instance\n",
    "\n",
    "`python scripts/grab_bonds_proflexdataset.py -i my_proflexdataset`\n",
    "\n",
    "`~/Desktop/siteinterlock-toolkit$ python scripts/pflex-bondviz.py -i examples/proflex_output/1com_0057/1com_0057_pflex_in_proflexdataset -b hbonds`\n",
    "\n",
    "```\n",
    "Atom#1 Atom#2\n",
    "1951 3761\n",
    "1949 3755\n",
    "3269 3759\n",
    "3566 3755\n",
    "3266 3761\n",
    "1185 3765\n",
    "```\n",
    "\n",
    "\n",
    "Copy and paste the results from the screen to a new text file or run the command again and pipe the output to a file\n",
    "\n",
    "`python grab_bonds_proflexdataset.py -i my_proflexdataset > hbonds.txt`\n",
    "\n"
   ]
  },
  {
   "cell_type": "markdown",
   "metadata": {},
   "source": [
    "![](images/open-hbonds-1.png)"
   ]
  },
  {
   "cell_type": "markdown",
   "metadata": {},
   "source": [
    "![](images/open-hbonds-2.png)"
   ]
  },
  {
   "cell_type": "markdown",
   "metadata": {},
   "source": [
    "![](images/open-hbonds-3.png)"
   ]
  },
  {
   "cell_type": "markdown",
   "metadata": {
    "collapsed": true
   },
   "source": [
    "\n",
    "\n",
    "\n",
    "\n",
    "3. Open the renamed proflexdataset.pdb file in PyMOL and draw the bond lines (using my BondVis PyMOL plugin, which reads in this grab_bonds_proflexdataset.py result file; examples and instructions for BondVis plugin can be found on the PSA wiki: [https://sol.bch.msu.edu/mediawiki/index.php/BondVis_Plugin_for_PyMOL](https://sol.bch.msu.edu/mediawiki/index.php/BondVis_Plugin_for_PyMOL).)\n",
    "\n",
    "4. Hide all atoms in PyMol  (you will have noticed that the secondary structure cannot be displayed properly). \n",
    "\n",
    "5. Now, open the Prolfex in- or output PDB file and overlay it with the bonds that where just drawn using the renamed proflexdataset.pdb file.\n",
    "\n",
    "This hack of using the proflexdataset file to draw the bonds and the PDB output file for actually overlaying the bonds with the protein structure was necessary because  the atom numbers given in the `REMARK:HB` and `ATOM` section of the proflexdataset file differ from the numbers in the output PDB file.\n"
   ]
  },
  {
   "cell_type": "code",
   "execution_count": null,
   "metadata": {
    "collapsed": true
   },
   "outputs": [],
   "source": []
  }
 ],
 "metadata": {
  "kernelspec": {
   "display_name": "Python 3",
   "language": "python",
   "name": "python3"
  },
  "language_info": {
   "codemirror_mode": {
    "name": "ipython",
    "version": 3
   },
   "file_extension": ".py",
   "mimetype": "text/x-python",
   "name": "python",
   "nbconvert_exporter": "python",
   "pygments_lexer": "ipython3",
   "version": "3.5.1"
  }
 },
 "nbformat": 4,
 "nbformat_minor": 0
}
